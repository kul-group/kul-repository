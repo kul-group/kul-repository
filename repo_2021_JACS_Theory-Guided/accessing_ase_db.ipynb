{
 "cells": [
  {
   "cell_type": "markdown",
   "metadata": {},
   "source": [
    "Requires the [Atomic Simulation Environment (ASE)](https://wiki.fysik.dtu.dk/ase/index.html) <br>\n",
    "Calculations for all structures are stored in an [ASE database](https://wiki.fysik.dtu.dk/ase/ase/db/db.html)\n",
    "\n",
    "Database keys and values used to access specific calculations:<br>\n",
    "**facet** = \"s100\", \"s100-Mg-vac\", \"s310\"<br>\n",
    "**adsorbate** = \"bare\", \"O\", \"O2\", \"vacancy\" (O vacancy) <br>\n",
    "\n",
    "For [100] and [100]Mg-vac:<br>\n",
    "**sub** = \"sub0\", \"sub1\", \"sub2\", \"sub3\"<br>\n",
    "<br>\n",
    "For [310]:<br>\n",
    "**pos** = \"pos1\", \"pos2\", \"pos3\", \"pos4\"<br>\n",
    "<br>\n",
    "(Refer to Fig. 3a-c in main text)\n",
    "\n",
    "**Note**: some of the structures (e.g. facet=\"s100-Mg-vac\", sub=\"sub1\", adsorbate=\"bare\") have multiple configurations that can be accessed with \"config\" key. config=1 will be the most stable."
   ]
  },
  {
   "cell_type": "code",
   "execution_count": 5,
   "metadata": {},
   "outputs": [],
   "source": [
    "from ase.db import connect\n",
    "from ase.visualize import view\n",
    "db = connect('pt_mgo.db')\n",
    "\n",
    "def get_atoms(facet, adsorbate, sub_pos, config=1):\n",
    "    if facet == 's310':\n",
    "        row = db.get(facet=facet, \n",
    "                     adsorbate=adsorbate, \n",
    "                     pos=sub_pos, \n",
    "                     config=config)\n",
    "    else:\n",
    "        row = db.get(facet=facet, \n",
    "                     adsorbate=adsorbate, \n",
    "                     sub=sub_pos, \n",
    "                     config=config)\n",
    "    return row.toatoms()\n",
    "\n",
    "def view_structure(facet, adsorbate, sub_pos, config=1):\n",
    "    atoms = get_atoms(facet, adsorbate, sub_pos, config)\n",
    "    view(atoms)"
   ]
  },
  {
   "cell_type": "code",
   "execution_count": 6,
   "metadata": {},
   "outputs": [
    {
     "name": "stdout",
     "output_type": "stream",
     "text": [
      "Energy: -889.47906099\n"
     ]
    }
   ],
   "source": [
    "# ASE Atoms object for most stable [310] structure\n",
    "atoms = get_atoms(\"s310\", \"O2\", \"pos1\")\n",
    "\n",
    "# Raw energy\n",
    "print(\"Energy:\", atoms.get_potential_energy())\n",
    "\n",
    "# View structure\n",
    "view_structure(\"s310\", \"O2\", \"pos1\")"
   ]
  },
  {
   "cell_type": "code",
   "execution_count": 7,
   "metadata": {},
   "outputs": [
    {
     "name": "stdout",
     "output_type": "stream",
     "text": [
      "Energy: -897.59267337\n"
     ]
    }
   ],
   "source": [
    "# ASE Atoms object for most stable [100] structure\n",
    "atoms = get_atoms(\"s100\", \"O2\", \"sub0\")\n",
    "\n",
    "# Raw energy\n",
    "print(\"Energy:\", atoms.get_potential_energy())\n",
    "\n",
    "# View structure\n",
    "view_structure(\"s100\", \"O2\", \"sub0\")"
   ]
  },
  {
   "cell_type": "code",
   "execution_count": 8,
   "metadata": {},
   "outputs": [
    {
     "name": "stdout",
     "output_type": "stream",
     "text": [
      "Energy: -879.79767395\n"
     ]
    }
   ],
   "source": [
    "# ASE Atoms object for most stable [100]Mg-vac structure\n",
    "atoms = get_atoms(\"s100-Mg-vac\", \"bare\", \"sub1\")\n",
    "\n",
    "# Raw energy\n",
    "print(\"Energy:\", atoms.get_potential_energy())\n",
    "\n",
    "# View structure\n",
    "view_structure(\"s100-Mg-vac\", \"bare\", \"sub1\")"
   ]
  },
  {
   "cell_type": "code",
   "execution_count": null,
   "metadata": {},
   "outputs": [],
   "source": []
  },
  {
   "cell_type": "code",
   "execution_count": null,
   "metadata": {},
   "outputs": [],
   "source": []
  }
 ],
 "metadata": {
  "kernelspec": {
   "display_name": "Python 3",
   "language": "python",
   "name": "python3"
  },
  "language_info": {
   "codemirror_mode": {
    "name": "ipython",
    "version": 3
   },
   "file_extension": ".py",
   "mimetype": "text/x-python",
   "name": "python",
   "nbconvert_exporter": "python",
   "pygments_lexer": "ipython3",
   "version": "3.6.8"
  }
 },
 "nbformat": 4,
 "nbformat_minor": 4
}
