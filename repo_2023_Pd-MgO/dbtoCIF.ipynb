{
 "cells": [
  {
   "cell_type": "markdown",
   "metadata": {},
   "source": [
    "# Notebook to read ASE database and create cif files for strctures to be fed into atoms2FEFF code of QuantEXAFS workflow"
   ]
  },
  {
   "cell_type": "code",
   "execution_count": 1,
   "metadata": {},
   "outputs": [
    {
     "name": "stdout",
     "output_type": "stream",
     "text": [
      "/Users/rachita/Desktop/try_db\n"
     ]
    }
   ],
   "source": [
    "import os\n",
    "from ase.io import read, write\n",
    "from ase.db import connect\n",
    "import traceback\n",
    "db = connect('pd_mgo.db')\n",
    "wd = os.getcwd()\n",
    "print(wd)"
   ]
  },
  {
   "cell_type": "code",
   "execution_count": 2,
   "metadata": {},
   "outputs": [
    {
     "name": "stdout",
     "output_type": "stream",
     "text": [
      "s100-Mg-vac_sub1_vacancy_0\n",
      "142\n",
      "s100-Mg-vac_sub1_O2_0\n",
      "145\n",
      "s100-Mg-vac_sub1_O_0\n",
      "144\n",
      "s100-Mg-vac_sub1_bare_0\n",
      "143\n",
      "s100_sub1_vacancy_0\n",
      "143\n",
      "s100_sub1_O2_0\n",
      "146\n",
      "s100_sub1_O_0\n",
      "145\n",
      "s100_sub1_bare_0\n",
      "144\n",
      "s100-Mg-vac_sub1_bare_1\n",
      "143\n",
      "s100-Mg-vac_sub1_bare_10\n",
      "143\n",
      "s100-Mg-vac_sub1_bare_4\n",
      "143\n",
      "s100_sub2_vacancy_3\n",
      "143\n",
      "s100_sub2_vacancy_0\n",
      "143\n",
      "s100_sub2_vacancy_2\n",
      "143\n",
      "s100_sub2_bare_0\n",
      "144\n",
      "s100-Mg-vac_sub2_bare_1\n",
      "143\n",
      "s100-Mg-vac_sub2_bare_2\n",
      "143\n",
      "s100_sub_vacancy_0\n",
      "143\n",
      "s100_sub_O2_0\n",
      "146\n",
      "s100_sub_O_0\n",
      "145\n",
      "s100_sub_bare_0\n",
      "144\n",
      "s100-Mg-vac_sub_bare_0\n",
      "143\n",
      "s100-Mg-vac_sub1_vacancy_4\n",
      "142\n",
      "s100-Mg-vac_sub1_O2_4\n",
      "145\n",
      "s100-Mg-vac_sub1_O_4\n",
      "144\n",
      "s100_sub3_bare_0\n",
      "144\n",
      "s310_sub1_vacancy_1\n",
      "143\n",
      "s310_sub1_O2_0\n",
      "146\n",
      "s310_sub1_O_0\n",
      "145\n",
      "s310_sub1_O2_2\n",
      "146\n",
      "s310_sub1_bare_0\n",
      "144\n",
      "s310_sub3_vacancy_1\n",
      "143\n",
      "s310_sub3_bare_2\n",
      "144\n",
      "s310_sub3_O2_0\n",
      "146\n",
      "s310_sub3_O_5\n",
      "145\n",
      "s310_sub3_O_0\n",
      "145\n",
      "s310_sub3_vacancy_2\n",
      "143\n",
      "s310_sub3_O2_2\n",
      "146\n",
      "s310_sub2_vacancy_1\n",
      "143\n",
      "s310_sub2_O2_0\n",
      "146\n",
      "s310_sub2_O_0\n",
      "145\n",
      "s310_sub2_bare_0\n",
      "144\n",
      "s310_sub_vacancy_1\n",
      "143\n",
      "s310_sub_vacancy_3\n",
      "143\n",
      "s310_sub_O2_0\n",
      "146\n",
      "s310_sub_O_0\n",
      "145\n",
      "s310_sub_bare_0\n",
      "144\n"
     ]
    }
   ],
   "source": [
    "for row in db.select(metal='Pd'):\n",
    "    facet = row.facet\n",
    "    sub = row.sub\n",
    "    ads = row.ads\n",
    "    config = row.config \n",
    "    name = f\"{facet}_{sub}_{ads}_{config}\"\n",
    "    print(name)\n",
    "    if not os.path.exists(name):\n",
    "        os.mkdir(name)\n",
    "        os.chdir(name)\n",
    "        atoms = row.toatoms()\n",
    "        atoms.write(name+'.cif')\n",
    "        print(len(atoms))\n",
    "        os.chdir(wd)\n",
    "    else:\n",
    "        pass"
   ]
  },
  {
   "cell_type": "code",
   "execution_count": null,
   "metadata": {},
   "outputs": [],
   "source": []
  }
 ],
 "metadata": {
  "kernelspec": {
   "display_name": "Python 3",
   "language": "python",
   "name": "python3"
  },
  "language_info": {
   "codemirror_mode": {
    "name": "ipython",
    "version": 3
   },
   "file_extension": ".py",
   "mimetype": "text/x-python",
   "name": "python",
   "nbconvert_exporter": "python",
   "pygments_lexer": "ipython3",
   "version": "3.8.5"
  }
 },
 "nbformat": 4,
 "nbformat_minor": 4
}
