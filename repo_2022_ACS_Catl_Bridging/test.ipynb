{
  "metadata": {
    "language_info": {
      "codemirror_mode": {
        "name": "python",
        "version": 3
      },
      "file_extension": ".py",
      "mimetype": "text/x-python",
      "name": "python",
      "nbconvert_exporter": "python",
      "pygments_lexer": "ipython3",
      "version": "3.8"
    },
    "kernelspec": {
      "name": "python",
      "display_name": "Python (Pyodide)",
      "language": "python"
    }
  },
  "nbformat_minor": 4,
  "nbformat": 4,
  "cells": [
    {
      "cell_type": "code",
      "source": "pip install ase",
      "metadata": {},
      "execution_count": null,
      "outputs": []
    },
    {
      "cell_type": "code",
      "source": "import os, sys\nfrom ase.io import read, write\nfrom ase.db import connect\nimport pickle\nfrom ase.visualize import view\nimport numpy as np\nimport matplotlib.pyplot as plt\nimport copy\nfrom ase import Atoms\n\nwd = os.getcwd()\ndb_path = wd+'/2Al_Pt_top100_lowest_r.db'\nif os.path.exists(db_path):\n    db = connect(db_path)\nelse:\n    print('Database does not exist!')\n\nfor row in db.select(ads='Pt'):\n    if row.file_name == 'T11_T11_272_274':\n        atoms = row.toatoms()\n        \n        plt.figure(figsize=(10,5))\n        plt.subplot(1,2,1)\n        plt.plot(row.data['expt_spectra_r']['energy'], row.data['expt_spectra_r']['intensity'], label='expt-r', color='k',lw=2)\n        plt.plot(row.data['modeled_spectra_r']['energy'], row.data['modeled_spectra_r']['intensity'],label='model-r',color='b',ls='--')\n        plt.legend()\n        plt.xlim([0, 5])\n\n        plt.subplot(1,2,2)\n        plt.plot(row.data['expt_spectra_k']['energy'], row.data['expt_spectra_k']['intensity'],label='expt-k',color='k',lw=2)\n        plt.plot(row.data['modeled_spectra_k']['energy'], row.data['modeled_spectra_k']['intensity'],label='model-k',color='b',ls='--')\n        plt.xlim([0, 10])\n        plt.legend()",
      "metadata": {},
      "execution_count": null,
      "outputs": []
    }
  ]
}
